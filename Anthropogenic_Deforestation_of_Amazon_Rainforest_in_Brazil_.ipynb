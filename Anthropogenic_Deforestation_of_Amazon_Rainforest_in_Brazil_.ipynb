{
  "nbformat": 4,
  "nbformat_minor": 0,
  "metadata": {
    "colab": {
      "provenance": [],
      "collapsed_sections": [
        "i-gJR7dY-2tO",
        "h2pYLOthUwJ3",
        "Z8THqPdUX8sf",
        "QhNuZsDjVhoN",
        "L4zSsjCOTH72",
        "ini0sQN1-lY-",
        "AgNEocBsNOFw",
        "P8KASzumqoru",
        "OC0ME-N5cLG9",
        "_B3k6gWA2Zkt",
        "4kmzE7Mv37-x",
        "o1GdXz9cdSE7",
        "U_bHWU2GrJYG",
        "IX9JnukfZICb",
        "afMPPuc2d5A4",
        "Vjs4nCpM6AuA",
        "GD87hIyy9v0w",
        "txoPArBi7AeW"
      ],
      "authorship_tag": "ABX9TyOQ2jTKvDYxfN4LQPrWUCNw",
      "include_colab_link": true
    },
    "kernelspec": {
      "name": "python3",
      "display_name": "Python 3"
    },
    "language_info": {
      "name": "python"
    }
  },
  "cells": [
    {
      "cell_type": "markdown",
      "metadata": {
        "id": "view-in-github",
        "colab_type": "text"
      },
      "source": [
        "<a href=\"https://colab.research.google.com/github/mssay710/earth-analytics-python-env/blob/main/Anthropogenic_Deforestation_of_Amazon_Rainforest_in_Brazil_.ipynb\" target=\"_parent\"><img src=\"https://colab.research.google.com/assets/colab-badge.svg\" alt=\"Open In Colab\"/></a>"
      ]
    },
    {
      "cell_type": "markdown",
      "source": [
        "# **Project Description**"
      ],
      "metadata": {
        "id": "i-gJR7dY-2tO"
      }
    },
    {
      "cell_type": "markdown",
      "source": [
        "One of the most important environmental issues is the degradation of the Amazon Rainforest, particularly in Brazil. Approximately 60% of the Amazon is located in Brazil and has one of the highest rates of biodiversity on Earth, with 10% to 20 % of all known species.\n",
        "\n",
        "Researchers have identified the following human activity as causes of rainforest loss:\n",
        "\n",
        "*   Forest fires\n",
        "*   Illegal logging and mining\n",
        "*   Slash and burn land clearing for agricultural purposes\n",
        "\n",
        "Additionally, rising global atmospheric CO2 levels affect the water and weather cycles, which results in desertification due to higher temperatures and reduced rainfall in the Amazon Rainforest.\n"
      ],
      "metadata": {
        "id": "DtFbDaEpIzGe"
      }
    },
    {
      "cell_type": "code",
      "source": [
        "#Geographic area - add map\n",
        "#Legal Amazon states: Acre (AC), Amapa (AP), Amazonas (AM), Maranhao (MA), Mato Grosso (MT), Para (PA), Rondonia (RO), Roraima (RR), Tocantins (TO)\n",
        "\n",
        "#Latitudes: [-9.070003236, -0.039598369, -3.289580873, -5.809995505, -15.65001504, -1.190019105, -11.64002724, -1.816231505, -6.319576804]\n",
        "#Longitudes: [-68.66997929, -51.17998743, -60.6199797, -46.14998438, -56.14002059, -47.17999903, -61.20999536, -61.12767481, -47.41998438]       ]"
      ],
      "metadata": {
        "id": "zGa8Yqk3uShA"
      },
      "execution_count": 1,
      "outputs": []
    },
    {
      "cell_type": "markdown",
      "source": [
        "The primary goal of this project is to explore datasets to assess which human activity leads to the most significant amount of rainforest loss in the Amazonian states of Brazil, which include Acre (AC), Amapa (AP), Amazonas (AM), Maranhao (MA), Mato Grosso (MT), Para (PA), Rondonia (RO), Roraima (RR), and Tocantins (TO)."
      ],
      "metadata": {
        "id": "NWujXcv2NAUv"
      }
    },
    {
      "cell_type": "markdown",
      "source": [
        "# **Overview**\n"
      ],
      "metadata": {
        "id": "h2pYLOthUwJ3"
      }
    },
    {
      "cell_type": "markdown",
      "source": [
        "It is important to track deforestation data because scientists have determined that the health of the Amazon Rainforest has implications for the health of the planet. The Amazon Rainforest captures (approximately 5%) of total global CO2 emissions.\n",
        "\n",
        "Drastically elevated levels of atmospheric greenhouse gases such as CO2 cause global warming, which can lead to rising temperatures, more natural disasters, disrupted food production due to changing crop cycles, melting glaciers, rising sea levels, and respiratory health complications in populations exposed to high pollution rates. (Plant response to excess CO2 can potentially affect cooling and rain cycles in tropical rainforests and result in an increase in drought and forest fires across the Amazon. - plant stomata study, controversial because it depends on computer climate models which are generally not reliable for water cycles)  \n",
        "\n",
        "*   Intergenerational equity\n",
        "*   Ability of future generations to survive and thrive\n",
        "* Resilience and adaptation to effects of anthropogenically induced climate change\n",
        "\n",
        "Tracking and predicting deforestation can help guide policy makers to take action to maintain the health of the Amazon Rainforest.\n",
        "\n",
        "The goal of this project is to demonstrate how data sets can be refined to answer questions about anthropogenic causes of deforestation in the Legal Amazon area of Brazil. Once a workable model is created, it can be adapted to suit the analytical and visualization needs of different stakeholders.\n"
      ],
      "metadata": {
        "id": "nshLFqVgxjGB"
      }
    },
    {
      "cell_type": "markdown",
      "source": [
        "# **Related Work**"
      ],
      "metadata": {
        "id": "Z8THqPdUX8sf"
      }
    },
    {
      "cell_type": "markdown",
      "source": [
        "* Find scholarly articles on anthropogenic causes of deforestation in Legal Amazon area of Brazil\n",
        "* Reforestation projects"
      ],
      "metadata": {
        "id": "PvQM2C-AYF_p"
      }
    },
    {
      "cell_type": "markdown",
      "source": [
        "# **Questions About Anthropogenic Causes of Deforestation in Legal Amazon area of Brazil**"
      ],
      "metadata": {
        "id": "QhNuZsDjVhoN"
      }
    },
    {
      "cell_type": "markdown",
      "source": [
        "* **How are fires affecting the Legal Amazon area of Brazil?**\n",
        "* **Why is species loss an important indicator of deforestation?**\n",
        "* **Are the exports of specialty lumber from the Legal Amazon area affecting the resilience of the rainforest and its ability to regenerate?**\n",
        "* **Why is beef and soy production in the Legal Amazon area a negative indicator of deforestation?**\n",
        "* **What are potential strategies for reforestation?**\n",
        "* **Is it possible for economic growth to continue while maintaining the integrity of the Amazon Rainforest?**"
      ],
      "metadata": {
        "id": "8AqOr1_BV5UB"
      }
    },
    {
      "cell_type": "markdown",
      "source": [
        "# **How data was collected**"
      ],
      "metadata": {
        "id": "L4zSsjCOTH72"
      }
    },
    {
      "cell_type": "markdown",
      "source": [
        "Data was collected from open data sets containing official statistics published by Brazilian government organizations, where possible. Other sources of data include greenhouse gas measurements published by NASA's Earth Observing System Data and Information System (EOSDIS), as well as statistics published by international NGOs.\n",
        "\n",
        "The relevant spreadsheets were downloaded as Excel files. The data sets were uploaded to Google Colab for cleaning, exploratory data analysis, statistical modeling and visualization using the Python programming language along with packages such as pandas, numpy, scikitlearn, matplotlib, and geopandas."
      ],
      "metadata": {
        "id": "S9766j78TsI1"
      }
    },
    {
      "cell_type": "markdown",
      "source": [
        "# **Install and Import Relevant Packages**\n",
        "\n",
        "\n",
        "\n"
      ],
      "metadata": {
        "id": "ini0sQN1-lY-"
      }
    },
    {
      "cell_type": "code",
      "source": [
        "# Important library for many geopython libraries\n",
        "!apt install gdal-bin python-gdal python3-gdal\n",
        "# Install rtree - Geopandas requirment\n",
        "!apt install python3-rtree\n",
        "# Install Geopandas\n",
        "!pip install geopandas\n",
        "# Install descartes - Geopandas requirment\n",
        "!pip install descartes\n",
        "# Install Folium for Geographic data visualization\n",
        "!pip install folium\n",
        "# Install plotlyExpress\n",
        "!pip install plotly_express"
      ],
      "metadata": {
        "id": "lZGQ135zJ-lJ",
        "colab": {
          "base_uri": "https://localhost:8080/"
        },
        "outputId": "1bc0b716-8935-4f50-f303-e242fef22f27"
      },
      "execution_count": 2,
      "outputs": [
        {
          "output_type": "stream",
          "name": "stdout",
          "text": [
            "Reading package lists... Done\n",
            "Building dependency tree... Done\n",
            "Reading state information... Done\n",
            "Package python-gdal is not available, but is referred to by another package.\n",
            "This may mean that the package is missing, has been obsoleted, or\n",
            "is only available from another source\n",
            "However the following packages replace it:\n",
            "  gdal-bin\n",
            "\n",
            "\u001b[1;31mE: \u001b[0mPackage 'python-gdal' has no installation candidate\u001b[0m\n",
            "Reading package lists... Done\n",
            "Building dependency tree... Done\n",
            "Reading state information... Done\n",
            "The following additional packages will be installed:\n",
            "  libspatialindex-c6 libspatialindex-dev libspatialindex6\n",
            "The following NEW packages will be installed:\n",
            "  libspatialindex-c6 libspatialindex-dev libspatialindex6 python3-rtree\n",
            "0 upgraded, 4 newly installed, 0 to remove and 33 not upgraded.\n",
            "Need to get 365 kB of archives.\n",
            "After this operation, 1,799 kB of additional disk space will be used.\n",
            "Get:1 http://archive.ubuntu.com/ubuntu jammy/universe amd64 libspatialindex6 amd64 1.9.3-2 [247 kB]\n",
            "Get:2 http://archive.ubuntu.com/ubuntu jammy/universe amd64 libspatialindex-c6 amd64 1.9.3-2 [55.8 kB]\n",
            "Get:3 http://archive.ubuntu.com/ubuntu jammy/universe amd64 libspatialindex-dev amd64 1.9.3-2 [16.0 kB]\n",
            "Get:4 http://archive.ubuntu.com/ubuntu jammy/universe amd64 python3-rtree all 0.9.7-1 [46.4 kB]\n",
            "Fetched 365 kB in 2s (195 kB/s)\n",
            "Selecting previously unselected package libspatialindex6:amd64.\n",
            "(Reading database ... 121749 files and directories currently installed.)\n",
            "Preparing to unpack .../libspatialindex6_1.9.3-2_amd64.deb ...\n",
            "Unpacking libspatialindex6:amd64 (1.9.3-2) ...\n",
            "Selecting previously unselected package libspatialindex-c6:amd64.\n",
            "Preparing to unpack .../libspatialindex-c6_1.9.3-2_amd64.deb ...\n",
            "Unpacking libspatialindex-c6:amd64 (1.9.3-2) ...\n",
            "Selecting previously unselected package libspatialindex-dev:amd64.\n",
            "Preparing to unpack .../libspatialindex-dev_1.9.3-2_amd64.deb ...\n",
            "Unpacking libspatialindex-dev:amd64 (1.9.3-2) ...\n",
            "Selecting previously unselected package python3-rtree.\n",
            "Preparing to unpack .../python3-rtree_0.9.7-1_all.deb ...\n",
            "Unpacking python3-rtree (0.9.7-1) ...\n",
            "Setting up libspatialindex6:amd64 (1.9.3-2) ...\n",
            "Setting up libspatialindex-c6:amd64 (1.9.3-2) ...\n",
            "Setting up libspatialindex-dev:amd64 (1.9.3-2) ...\n",
            "Setting up python3-rtree (0.9.7-1) ...\n",
            "Processing triggers for libc-bin (2.35-0ubuntu3.4) ...\n",
            "/sbin/ldconfig.real: /usr/local/lib/libtbbmalloc.so.2 is not a symbolic link\n",
            "\n",
            "/sbin/ldconfig.real: /usr/local/lib/libtbbmalloc_proxy.so.2 is not a symbolic link\n",
            "\n",
            "/sbin/ldconfig.real: /usr/local/lib/libtbb.so.12 is not a symbolic link\n",
            "\n",
            "/sbin/ldconfig.real: /usr/local/lib/libtbbbind.so.3 is not a symbolic link\n",
            "\n",
            "/sbin/ldconfig.real: /usr/local/lib/libtbbbind_2_0.so.3 is not a symbolic link\n",
            "\n",
            "/sbin/ldconfig.real: /usr/local/lib/libtbbbind_2_5.so.3 is not a symbolic link\n",
            "\n",
            "Requirement already satisfied: geopandas in /usr/local/lib/python3.10/dist-packages (0.13.2)\n",
            "Requirement already satisfied: fiona>=1.8.19 in /usr/local/lib/python3.10/dist-packages (from geopandas) (1.9.5)\n",
            "Requirement already satisfied: packaging in /usr/local/lib/python3.10/dist-packages (from geopandas) (23.2)\n",
            "Requirement already satisfied: pandas>=1.1.0 in /usr/local/lib/python3.10/dist-packages (from geopandas) (1.5.3)\n",
            "Requirement already satisfied: pyproj>=3.0.1 in /usr/local/lib/python3.10/dist-packages (from geopandas) (3.6.1)\n",
            "Requirement already satisfied: shapely>=1.7.1 in /usr/local/lib/python3.10/dist-packages (from geopandas) (2.0.2)\n",
            "Requirement already satisfied: attrs>=19.2.0 in /usr/local/lib/python3.10/dist-packages (from fiona>=1.8.19->geopandas) (23.2.0)\n",
            "Requirement already satisfied: certifi in /usr/local/lib/python3.10/dist-packages (from fiona>=1.8.19->geopandas) (2024.2.2)\n",
            "Requirement already satisfied: click~=8.0 in /usr/local/lib/python3.10/dist-packages (from fiona>=1.8.19->geopandas) (8.1.7)\n",
            "Requirement already satisfied: click-plugins>=1.0 in /usr/local/lib/python3.10/dist-packages (from fiona>=1.8.19->geopandas) (1.1.1)\n",
            "Requirement already satisfied: cligj>=0.5 in /usr/local/lib/python3.10/dist-packages (from fiona>=1.8.19->geopandas) (0.7.2)\n",
            "Requirement already satisfied: six in /usr/local/lib/python3.10/dist-packages (from fiona>=1.8.19->geopandas) (1.16.0)\n",
            "Requirement already satisfied: setuptools in /usr/local/lib/python3.10/dist-packages (from fiona>=1.8.19->geopandas) (67.7.2)\n",
            "Requirement already satisfied: python-dateutil>=2.8.1 in /usr/local/lib/python3.10/dist-packages (from pandas>=1.1.0->geopandas) (2.8.2)\n",
            "Requirement already satisfied: pytz>=2020.1 in /usr/local/lib/python3.10/dist-packages (from pandas>=1.1.0->geopandas) (2023.4)\n",
            "Requirement already satisfied: numpy>=1.21.0 in /usr/local/lib/python3.10/dist-packages (from pandas>=1.1.0->geopandas) (1.25.2)\n",
            "Collecting descartes\n",
            "  Downloading descartes-1.1.0-py3-none-any.whl (5.8 kB)\n",
            "Requirement already satisfied: matplotlib in /usr/local/lib/python3.10/dist-packages (from descartes) (3.7.1)\n",
            "Requirement already satisfied: contourpy>=1.0.1 in /usr/local/lib/python3.10/dist-packages (from matplotlib->descartes) (1.2.0)\n",
            "Requirement already satisfied: cycler>=0.10 in /usr/local/lib/python3.10/dist-packages (from matplotlib->descartes) (0.12.1)\n",
            "Requirement already satisfied: fonttools>=4.22.0 in /usr/local/lib/python3.10/dist-packages (from matplotlib->descartes) (4.48.1)\n",
            "Requirement already satisfied: kiwisolver>=1.0.1 in /usr/local/lib/python3.10/dist-packages (from matplotlib->descartes) (1.4.5)\n",
            "Requirement already satisfied: numpy>=1.20 in /usr/local/lib/python3.10/dist-packages (from matplotlib->descartes) (1.25.2)\n",
            "Requirement already satisfied: packaging>=20.0 in /usr/local/lib/python3.10/dist-packages (from matplotlib->descartes) (23.2)\n",
            "Requirement already satisfied: pillow>=6.2.0 in /usr/local/lib/python3.10/dist-packages (from matplotlib->descartes) (9.4.0)\n",
            "Requirement already satisfied: pyparsing>=2.3.1 in /usr/local/lib/python3.10/dist-packages (from matplotlib->descartes) (3.1.1)\n",
            "Requirement already satisfied: python-dateutil>=2.7 in /usr/local/lib/python3.10/dist-packages (from matplotlib->descartes) (2.8.2)\n",
            "Requirement already satisfied: six>=1.5 in /usr/local/lib/python3.10/dist-packages (from python-dateutil>=2.7->matplotlib->descartes) (1.16.0)\n",
            "Installing collected packages: descartes\n",
            "Successfully installed descartes-1.1.0\n",
            "Requirement already satisfied: folium in /usr/local/lib/python3.10/dist-packages (0.14.0)\n",
            "Requirement already satisfied: branca>=0.6.0 in /usr/local/lib/python3.10/dist-packages (from folium) (0.7.1)\n",
            "Requirement already satisfied: jinja2>=2.9 in /usr/local/lib/python3.10/dist-packages (from folium) (3.1.3)\n",
            "Requirement already satisfied: numpy in /usr/local/lib/python3.10/dist-packages (from folium) (1.25.2)\n",
            "Requirement already satisfied: requests in /usr/local/lib/python3.10/dist-packages (from folium) (2.31.0)\n",
            "Requirement already satisfied: MarkupSafe>=2.0 in /usr/local/lib/python3.10/dist-packages (from jinja2>=2.9->folium) (2.1.5)\n",
            "Requirement already satisfied: charset-normalizer<4,>=2 in /usr/local/lib/python3.10/dist-packages (from requests->folium) (3.3.2)\n",
            "Requirement already satisfied: idna<4,>=2.5 in /usr/local/lib/python3.10/dist-packages (from requests->folium) (3.6)\n",
            "Requirement already satisfied: urllib3<3,>=1.21.1 in /usr/local/lib/python3.10/dist-packages (from requests->folium) (2.0.7)\n",
            "Requirement already satisfied: certifi>=2017.4.17 in /usr/local/lib/python3.10/dist-packages (from requests->folium) (2024.2.2)\n",
            "Collecting plotly_express\n",
            "  Downloading plotly_express-0.4.1-py2.py3-none-any.whl (2.9 kB)\n",
            "Requirement already satisfied: pandas>=0.20.0 in /usr/local/lib/python3.10/dist-packages (from plotly_express) (1.5.3)\n",
            "Requirement already satisfied: plotly>=4.1.0 in /usr/local/lib/python3.10/dist-packages (from plotly_express) (5.15.0)\n",
            "Requirement already satisfied: statsmodels>=0.9.0 in /usr/local/lib/python3.10/dist-packages (from plotly_express) (0.14.1)\n",
            "Requirement already satisfied: scipy>=0.18 in /usr/local/lib/python3.10/dist-packages (from plotly_express) (1.11.4)\n",
            "Requirement already satisfied: patsy>=0.5 in /usr/local/lib/python3.10/dist-packages (from plotly_express) (0.5.6)\n",
            "Requirement already satisfied: numpy>=1.11 in /usr/local/lib/python3.10/dist-packages (from plotly_express) (1.25.2)\n",
            "Requirement already satisfied: python-dateutil>=2.8.1 in /usr/local/lib/python3.10/dist-packages (from pandas>=0.20.0->plotly_express) (2.8.2)\n",
            "Requirement already satisfied: pytz>=2020.1 in /usr/local/lib/python3.10/dist-packages (from pandas>=0.20.0->plotly_express) (2023.4)\n",
            "Requirement already satisfied: six in /usr/local/lib/python3.10/dist-packages (from patsy>=0.5->plotly_express) (1.16.0)\n",
            "Requirement already satisfied: tenacity>=6.2.0 in /usr/local/lib/python3.10/dist-packages (from plotly>=4.1.0->plotly_express) (8.2.3)\n",
            "Requirement already satisfied: packaging in /usr/local/lib/python3.10/dist-packages (from plotly>=4.1.0->plotly_express) (23.2)\n",
            "Installing collected packages: plotly_express\n",
            "Successfully installed plotly_express-0.4.1\n"
          ]
        }
      ]
    },
    {
      "cell_type": "code",
      "source": [
        "!pip install mplcursors"
      ],
      "metadata": {
        "id": "eE6wk81lNXqO",
        "colab": {
          "base_uri": "https://localhost:8080/",
          "height": 786
        },
        "outputId": "ed8ee63f-9a1e-478f-f284-b0d55d976ee6"
      },
      "execution_count": 3,
      "outputs": [
        {
          "output_type": "stream",
          "name": "stdout",
          "text": [
            "Collecting mplcursors\n",
            "  Downloading mplcursors-0.5.3.tar.gz (88 kB)\n",
            "\u001b[2K     \u001b[90m━━━━━━━━━━━━━━━━━━━━━━━━━━━━━━━━━━━━━━━━\u001b[0m \u001b[32m88.8/88.8 kB\u001b[0m \u001b[31m1.3 MB/s\u001b[0m eta \u001b[36m0:00:00\u001b[0m\n",
            "\u001b[?25h  Installing build dependencies ... \u001b[?25l\u001b[?25hdone\n",
            "  Getting requirements to build wheel ... \u001b[?25l\u001b[?25hdone\n",
            "  Installing backend dependencies ... \u001b[?25l\u001b[?25hdone\n",
            "  Preparing metadata (pyproject.toml) ... \u001b[?25l\u001b[?25hdone\n",
            "Collecting matplotlib!=3.7.1,>=3.1 (from mplcursors)\n",
            "  Downloading matplotlib-3.8.3-cp310-cp310-manylinux_2_17_x86_64.manylinux2014_x86_64.whl (11.6 MB)\n",
            "\u001b[2K     \u001b[90m━━━━━━━━━━━━━━━━━━━━━━━━━━━━━━━━━━━━━━━━\u001b[0m \u001b[32m11.6/11.6 MB\u001b[0m \u001b[31m16.8 MB/s\u001b[0m eta \u001b[36m0:00:00\u001b[0m\n",
            "\u001b[?25hRequirement already satisfied: contourpy>=1.0.1 in /usr/local/lib/python3.10/dist-packages (from matplotlib!=3.7.1,>=3.1->mplcursors) (1.2.0)\n",
            "Requirement already satisfied: cycler>=0.10 in /usr/local/lib/python3.10/dist-packages (from matplotlib!=3.7.1,>=3.1->mplcursors) (0.12.1)\n",
            "Requirement already satisfied: fonttools>=4.22.0 in /usr/local/lib/python3.10/dist-packages (from matplotlib!=3.7.1,>=3.1->mplcursors) (4.48.1)\n",
            "Requirement already satisfied: kiwisolver>=1.3.1 in /usr/local/lib/python3.10/dist-packages (from matplotlib!=3.7.1,>=3.1->mplcursors) (1.4.5)\n",
            "Requirement already satisfied: numpy<2,>=1.21 in /usr/local/lib/python3.10/dist-packages (from matplotlib!=3.7.1,>=3.1->mplcursors) (1.25.2)\n",
            "Requirement already satisfied: packaging>=20.0 in /usr/local/lib/python3.10/dist-packages (from matplotlib!=3.7.1,>=3.1->mplcursors) (23.2)\n",
            "Requirement already satisfied: pillow>=8 in /usr/local/lib/python3.10/dist-packages (from matplotlib!=3.7.1,>=3.1->mplcursors) (9.4.0)\n",
            "Requirement already satisfied: pyparsing>=2.3.1 in /usr/local/lib/python3.10/dist-packages (from matplotlib!=3.7.1,>=3.1->mplcursors) (3.1.1)\n",
            "Requirement already satisfied: python-dateutil>=2.7 in /usr/local/lib/python3.10/dist-packages (from matplotlib!=3.7.1,>=3.1->mplcursors) (2.8.2)\n",
            "Requirement already satisfied: six>=1.5 in /usr/local/lib/python3.10/dist-packages (from python-dateutil>=2.7->matplotlib!=3.7.1,>=3.1->mplcursors) (1.16.0)\n",
            "Building wheels for collected packages: mplcursors\n",
            "  Building wheel for mplcursors (pyproject.toml) ... \u001b[?25l\u001b[?25hdone\n",
            "  Created wheel for mplcursors: filename=mplcursors-0.5.3-py3-none-any.whl size=20728 sha256=38487626b42bfc4e57cf7541d887b8cfde58eb38b8a9442a8beec818d3bbaab4\n",
            "  Stored in directory: /root/.cache/pip/wheels/83/43/92/44f9515471f56877c774a515a2902d3e5484ea1bc7fd412d03\n",
            "Successfully built mplcursors\n",
            "Installing collected packages: matplotlib, mplcursors\n",
            "  Attempting uninstall: matplotlib\n",
            "    Found existing installation: matplotlib 3.7.1\n",
            "    Uninstalling matplotlib-3.7.1:\n",
            "      Successfully uninstalled matplotlib-3.7.1\n",
            "\u001b[31mERROR: pip's dependency resolver does not currently take into account all the packages that are installed. This behaviour is the source of the following dependency conflicts.\n",
            "lida 0.0.10 requires fastapi, which is not installed.\n",
            "lida 0.0.10 requires kaleido, which is not installed.\n",
            "lida 0.0.10 requires python-multipart, which is not installed.\n",
            "lida 0.0.10 requires uvicorn, which is not installed.\u001b[0m\u001b[31m\n",
            "\u001b[0mSuccessfully installed matplotlib-3.8.3 mplcursors-0.5.3\n"
          ]
        },
        {
          "output_type": "display_data",
          "data": {
            "application/vnd.colab-display-data+json": {
              "pip_warning": {
                "packages": [
                  "matplotlib",
                  "mpl_toolkits"
                ]
              }
            }
          },
          "metadata": {}
        }
      ]
    },
    {
      "cell_type": "code",
      "execution_count": 4,
      "metadata": {
        "id": "8T_yRk5khweL",
        "colab": {
          "base_uri": "https://localhost:8080/"
        },
        "outputId": "d8be9551-9d37-4212-e74d-729e0f01f7ff"
      },
      "outputs": [
        {
          "output_type": "stream",
          "name": "stderr",
          "text": [
            "<ipython-input-4-0086db7f33ff>:17: MatplotlibDeprecationWarning: The seaborn styles shipped by Matplotlib are deprecated since 3.6, as they no longer correspond to the styles shipped by seaborn. However, they will remain available as 'seaborn-v0_8-<style>'. Alternatively, directly use the seaborn API instead.\n",
            "  plt.style.use('seaborn-whitegrid')\n"
          ]
        }
      ],
      "source": [
        "# import libraries\n",
        "\n",
        "import pandas as pd\n",
        "import numpy as np\n",
        "import scipy.stats as stats\n",
        "from scipy.stats import norm\n",
        "import statsmodels.stats.api as sm\n",
        "import seaborn as sns\n",
        "from math import ceil\n",
        "from datascience import *\n",
        "from sklearn import metrics\n",
        "import geopandas as gpd\n",
        "from shapely.geometry import Point\n",
        "%matplotlib inline\n",
        "import matplotlib.pyplot as plt\n",
        "import matplotlib as mpl\n",
        "plt.style.use('seaborn-whitegrid')\n",
        "import folium\n",
        "import plotly_express as px\n",
        "import plotly.graph_objects as go\n",
        "import statsmodels.api as sm"
      ]
    },
    {
      "cell_type": "code",
      "source": [
        "# mount google drive to read the data set\n",
        "from google.colab import drive\n",
        "drive.mount('/content/gdrive')"
      ],
      "metadata": {
        "id": "CkrFgvZmiEzC",
        "colab": {
          "base_uri": "https://localhost:8080/"
        },
        "outputId": "763b2331-7986-42be-a145-682828c5b64a"
      },
      "execution_count": 5,
      "outputs": [
        {
          "output_type": "stream",
          "name": "stdout",
          "text": [
            "Mounted at /content/gdrive\n"
          ]
        }
      ]
    },
    {
      "cell_type": "code",
      "source": [
        "# closes all plots if there is too much memory being used\n",
        "%matplotlib inline\n",
        "plt.close('all')"
      ],
      "metadata": {
        "id": "BQsxcMYt-6Pa"
      },
      "execution_count": 6,
      "outputs": []
    },
    {
      "cell_type": "markdown",
      "source": [
        "# **Code Snippets Temp Section**"
      ],
      "metadata": {
        "id": "AgNEocBsNOFw"
      }
    },
    {
      "cell_type": "code",
      "source": [
        "# drop NaN values\n",
        "\n",
        "#df.dropna(subset=['col1', 'col2'])"
      ],
      "metadata": {
        "id": "ME_NF8DmNfWh"
      },
      "execution_count": 7,
      "outputs": []
    },
    {
      "cell_type": "code",
      "source": [
        "# filter data to include only cities in the United States\n",
        "\n",
        "#new_df = df.loc[df['col'] == 'filter criteria']"
      ],
      "metadata": {
        "id": "X2s40ygqqpm2"
      },
      "execution_count": 8,
      "outputs": []
    },
    {
      "cell_type": "code",
      "source": [
        "# drop NaN from 'City' column\n",
        "\n",
        "#large_cities_USA.dropna(subset=['City'], inplace=True)\n",
        "#large_cities_USA"
      ],
      "metadata": {
        "id": "q-NJDCUNn2sR"
      },
      "execution_count": 9,
      "outputs": []
    },
    {
      "cell_type": "code",
      "source": [
        "# remaining NaN values are replaced by 0 to facilitate numerical analysis\n",
        "\n",
        "#large_cities_USA = large_cities_USA.fillna(0)"
      ],
      "metadata": {
        "id": "L1Arv1O_a-gj"
      },
      "execution_count": 10,
      "outputs": []
    },
    {
      "cell_type": "code",
      "source": [
        "# rename columns to shorten column names\n",
        "\n",
        "#total_emissions = large_cities_USA.rename(columns={'Direct emissions (metric tonnes CO2e) for Total generation of grid-supplied energy':'Grid Emissions (tons CO2e)', 'Direct emissions (metric tonnes CO2e) for Total emissions (excluding generation of grid-supplied energy)':'Other Sources (tons CO2e)'}, inplace=False)"
      ],
      "metadata": {
        "id": "PY-DG6h6WUfL"
      },
      "execution_count": 11,
      "outputs": []
    },
    {
      "cell_type": "code",
      "source": [
        "# drop specific rows\n",
        "\n",
        "#df = df.drop([row number,row number,...])"
      ],
      "metadata": {
        "id": "UgmXMHh9gipv"
      },
      "execution_count": 12,
      "outputs": []
    },
    {
      "cell_type": "code",
      "source": [
        "# generate sum of columns\n",
        "\n",
        "#df['sum col'] = df['sum col 1'] + df['sum col 2']"
      ],
      "metadata": {
        "id": "mb5t8RrYTZ6w"
      },
      "execution_count": 13,
      "outputs": []
    },
    {
      "cell_type": "code",
      "source": [
        "#sector_lat = sector_data.groupby(['Sector City', 'Latitude', 'Longitude'], as_index=False).sum()\n",
        "#sector_lat"
      ],
      "metadata": {
        "id": "qGNDA81zWtqk"
      },
      "execution_count": 14,
      "outputs": []
    },
    {
      "cell_type": "code",
      "source": [
        "#fig = px.scatter_geo(sector_lat,lat='Latitude',lon='Longitude', hover_name='Sector City', size='Sector CO2 Emissions')\n",
        "#fig.update_geos(\n",
        "    #visible=False, resolution=110, scope=\"usa\",\n",
        "    #showcountries=True, countrycolor=\"Black\",\n",
        "    #showsubunits=True, subunitcolor=\"Black\")\n",
        "#fig.update_layout(title = 'CO2 Emissions by City in the United States', title_x=0.5)\n",
        "#fig.show()"
      ],
      "metadata": {
        "id": "m27S8qhNXENv"
      },
      "execution_count": 15,
      "outputs": []
    },
    {
      "cell_type": "code",
      "source": [
        "#generate map showing CO2 emissions by sector\n",
        "\n",
        "#fig = px.scatter_geo(sector_data,lat='Latitude',lon='Longitude', color='Sector', hover_name='Sector City', size='Sector CO2 Emissions')\n",
        "#fig.update_geos(\n",
        "    #visible=False, resolution=110, scope=\"usa\",\n",
        "    #showcountries=True, countrycolor=\"Black\",\n",
        "    #showsubunits=True, subunitcolor=\"Black\")\n",
        "#fig.update_layout(title = 'CO2 Emissions by Sector in the United States', title_x=0.5)\n",
        "#fig.show()"
      ],
      "metadata": {
        "id": "Sb1ILnBQqgOd"
      },
      "execution_count": 16,
      "outputs": []
    },
    {
      "cell_type": "markdown",
      "source": [
        "# **Import and Clean Data**"
      ],
      "metadata": {
        "id": "P8KASzumqoru"
      }
    },
    {
      "cell_type": "markdown",
      "source": [
        "The goal during this phase is to refine the data to include only relevant statistics to be analyzed. Data sets consist of information about deforestation, species loss, population, lumber exports, and agriculture in the Legal Amazon region of Brazil."
      ],
      "metadata": {
        "id": "qAFz0g1RvGg2"
      }
    },
    {
      "cell_type": "code",
      "source": [
        "# load Brazil dataset\n",
        "brazil_data = pd.read_excel(\"/content/gdrive/MyDrive/Intro to Data Sci Final Project Spring 2023/data/Brazil_Amazon_Data.xlsx\")\n",
        "brazil_data.head()"
      ],
      "metadata": {
        "id": "oAsIxgqyHo-d",
        "colab": {
          "base_uri": "https://localhost:8080/",
          "height": 350
        },
        "outputId": "ec34919a-7c62-4e49-af92-57cd437d82f6"
      },
      "execution_count": 17,
      "outputs": [
        {
          "output_type": "error",
          "ename": "FileNotFoundError",
          "evalue": "[Errno 2] No such file or directory: '/content/gdrive/MyDrive/Intro to Data Sci Final Project Spring 2023/data/Brazil_Amazon_Data.xlsx'",
          "traceback": [
            "\u001b[0;31m---------------------------------------------------------------------------\u001b[0m",
            "\u001b[0;31mFileNotFoundError\u001b[0m                         Traceback (most recent call last)",
            "\u001b[0;32m<ipython-input-17-7202634a05ea>\u001b[0m in \u001b[0;36m<cell line: 2>\u001b[0;34m()\u001b[0m\n\u001b[1;32m      1\u001b[0m \u001b[0;31m# load Brazil dataset\u001b[0m\u001b[0;34m\u001b[0m\u001b[0;34m\u001b[0m\u001b[0m\n\u001b[0;32m----> 2\u001b[0;31m \u001b[0mbrazil_data\u001b[0m \u001b[0;34m=\u001b[0m \u001b[0mpd\u001b[0m\u001b[0;34m.\u001b[0m\u001b[0mread_excel\u001b[0m\u001b[0;34m(\u001b[0m\u001b[0;34m\"/content/gdrive/MyDrive/Intro to Data Sci Final Project Spring 2023/data/Brazil_Amazon_Data.xlsx\"\u001b[0m\u001b[0;34m)\u001b[0m\u001b[0;34m\u001b[0m\u001b[0;34m\u001b[0m\u001b[0m\n\u001b[0m\u001b[1;32m      3\u001b[0m \u001b[0mbrazil_data\u001b[0m\u001b[0;34m.\u001b[0m\u001b[0mhead\u001b[0m\u001b[0;34m(\u001b[0m\u001b[0;34m)\u001b[0m\u001b[0;34m\u001b[0m\u001b[0;34m\u001b[0m\u001b[0m\n",
            "\u001b[0;32m/usr/local/lib/python3.10/dist-packages/pandas/util/_decorators.py\u001b[0m in \u001b[0;36mwrapper\u001b[0;34m(*args, **kwargs)\u001b[0m\n\u001b[1;32m    209\u001b[0m                 \u001b[0;32melse\u001b[0m\u001b[0;34m:\u001b[0m\u001b[0;34m\u001b[0m\u001b[0;34m\u001b[0m\u001b[0m\n\u001b[1;32m    210\u001b[0m                     \u001b[0mkwargs\u001b[0m\u001b[0;34m[\u001b[0m\u001b[0mnew_arg_name\u001b[0m\u001b[0;34m]\u001b[0m \u001b[0;34m=\u001b[0m \u001b[0mnew_arg_value\u001b[0m\u001b[0;34m\u001b[0m\u001b[0;34m\u001b[0m\u001b[0m\n\u001b[0;32m--> 211\u001b[0;31m             \u001b[0;32mreturn\u001b[0m \u001b[0mfunc\u001b[0m\u001b[0;34m(\u001b[0m\u001b[0;34m*\u001b[0m\u001b[0margs\u001b[0m\u001b[0;34m,\u001b[0m \u001b[0;34m**\u001b[0m\u001b[0mkwargs\u001b[0m\u001b[0;34m)\u001b[0m\u001b[0;34m\u001b[0m\u001b[0;34m\u001b[0m\u001b[0m\n\u001b[0m\u001b[1;32m    212\u001b[0m \u001b[0;34m\u001b[0m\u001b[0m\n\u001b[1;32m    213\u001b[0m         \u001b[0;32mreturn\u001b[0m \u001b[0mcast\u001b[0m\u001b[0;34m(\u001b[0m\u001b[0mF\u001b[0m\u001b[0;34m,\u001b[0m \u001b[0mwrapper\u001b[0m\u001b[0;34m)\u001b[0m\u001b[0;34m\u001b[0m\u001b[0;34m\u001b[0m\u001b[0m\n",
            "\u001b[0;32m/usr/local/lib/python3.10/dist-packages/pandas/util/_decorators.py\u001b[0m in \u001b[0;36mwrapper\u001b[0;34m(*args, **kwargs)\u001b[0m\n\u001b[1;32m    329\u001b[0m                     \u001b[0mstacklevel\u001b[0m\u001b[0;34m=\u001b[0m\u001b[0mfind_stack_level\u001b[0m\u001b[0;34m(\u001b[0m\u001b[0;34m)\u001b[0m\u001b[0;34m,\u001b[0m\u001b[0;34m\u001b[0m\u001b[0;34m\u001b[0m\u001b[0m\n\u001b[1;32m    330\u001b[0m                 )\n\u001b[0;32m--> 331\u001b[0;31m             \u001b[0;32mreturn\u001b[0m \u001b[0mfunc\u001b[0m\u001b[0;34m(\u001b[0m\u001b[0;34m*\u001b[0m\u001b[0margs\u001b[0m\u001b[0;34m,\u001b[0m \u001b[0;34m**\u001b[0m\u001b[0mkwargs\u001b[0m\u001b[0;34m)\u001b[0m\u001b[0;34m\u001b[0m\u001b[0;34m\u001b[0m\u001b[0m\n\u001b[0m\u001b[1;32m    332\u001b[0m \u001b[0;34m\u001b[0m\u001b[0m\n\u001b[1;32m    333\u001b[0m         \u001b[0;31m# error: \"Callable[[VarArg(Any), KwArg(Any)], Any]\" has no\u001b[0m\u001b[0;34m\u001b[0m\u001b[0;34m\u001b[0m\u001b[0m\n",
            "\u001b[0;32m/usr/local/lib/python3.10/dist-packages/pandas/io/excel/_base.py\u001b[0m in \u001b[0;36mread_excel\u001b[0;34m(io, sheet_name, header, names, index_col, usecols, squeeze, dtype, engine, converters, true_values, false_values, skiprows, nrows, na_values, keep_default_na, na_filter, verbose, parse_dates, date_parser, thousands, decimal, comment, skipfooter, convert_float, mangle_dupe_cols, storage_options)\u001b[0m\n\u001b[1;32m    480\u001b[0m     \u001b[0;32mif\u001b[0m \u001b[0;32mnot\u001b[0m \u001b[0misinstance\u001b[0m\u001b[0;34m(\u001b[0m\u001b[0mio\u001b[0m\u001b[0;34m,\u001b[0m \u001b[0mExcelFile\u001b[0m\u001b[0;34m)\u001b[0m\u001b[0;34m:\u001b[0m\u001b[0;34m\u001b[0m\u001b[0;34m\u001b[0m\u001b[0m\n\u001b[1;32m    481\u001b[0m         \u001b[0mshould_close\u001b[0m \u001b[0;34m=\u001b[0m \u001b[0;32mTrue\u001b[0m\u001b[0;34m\u001b[0m\u001b[0;34m\u001b[0m\u001b[0m\n\u001b[0;32m--> 482\u001b[0;31m         \u001b[0mio\u001b[0m \u001b[0;34m=\u001b[0m \u001b[0mExcelFile\u001b[0m\u001b[0;34m(\u001b[0m\u001b[0mio\u001b[0m\u001b[0;34m,\u001b[0m \u001b[0mstorage_options\u001b[0m\u001b[0;34m=\u001b[0m\u001b[0mstorage_options\u001b[0m\u001b[0;34m,\u001b[0m \u001b[0mengine\u001b[0m\u001b[0;34m=\u001b[0m\u001b[0mengine\u001b[0m\u001b[0;34m)\u001b[0m\u001b[0;34m\u001b[0m\u001b[0;34m\u001b[0m\u001b[0m\n\u001b[0m\u001b[1;32m    483\u001b[0m     \u001b[0;32melif\u001b[0m \u001b[0mengine\u001b[0m \u001b[0;32mand\u001b[0m \u001b[0mengine\u001b[0m \u001b[0;34m!=\u001b[0m \u001b[0mio\u001b[0m\u001b[0;34m.\u001b[0m\u001b[0mengine\u001b[0m\u001b[0;34m:\u001b[0m\u001b[0;34m\u001b[0m\u001b[0;34m\u001b[0m\u001b[0m\n\u001b[1;32m    484\u001b[0m         raise ValueError(\n",
            "\u001b[0;32m/usr/local/lib/python3.10/dist-packages/pandas/io/excel/_base.py\u001b[0m in \u001b[0;36m__init__\u001b[0;34m(self, path_or_buffer, engine, storage_options)\u001b[0m\n\u001b[1;32m   1650\u001b[0m                 \u001b[0mext\u001b[0m \u001b[0;34m=\u001b[0m \u001b[0;34m\"xls\"\u001b[0m\u001b[0;34m\u001b[0m\u001b[0;34m\u001b[0m\u001b[0m\n\u001b[1;32m   1651\u001b[0m             \u001b[0;32melse\u001b[0m\u001b[0;34m:\u001b[0m\u001b[0;34m\u001b[0m\u001b[0;34m\u001b[0m\u001b[0m\n\u001b[0;32m-> 1652\u001b[0;31m                 ext = inspect_excel_format(\n\u001b[0m\u001b[1;32m   1653\u001b[0m                     \u001b[0mcontent_or_path\u001b[0m\u001b[0;34m=\u001b[0m\u001b[0mpath_or_buffer\u001b[0m\u001b[0;34m,\u001b[0m \u001b[0mstorage_options\u001b[0m\u001b[0;34m=\u001b[0m\u001b[0mstorage_options\u001b[0m\u001b[0;34m\u001b[0m\u001b[0;34m\u001b[0m\u001b[0m\n\u001b[1;32m   1654\u001b[0m                 )\n",
            "\u001b[0;32m/usr/local/lib/python3.10/dist-packages/pandas/io/excel/_base.py\u001b[0m in \u001b[0;36minspect_excel_format\u001b[0;34m(content_or_path, storage_options)\u001b[0m\n\u001b[1;32m   1523\u001b[0m         \u001b[0mcontent_or_path\u001b[0m \u001b[0;34m=\u001b[0m \u001b[0mBytesIO\u001b[0m\u001b[0;34m(\u001b[0m\u001b[0mcontent_or_path\u001b[0m\u001b[0;34m)\u001b[0m\u001b[0;34m\u001b[0m\u001b[0;34m\u001b[0m\u001b[0m\n\u001b[1;32m   1524\u001b[0m \u001b[0;34m\u001b[0m\u001b[0m\n\u001b[0;32m-> 1525\u001b[0;31m     with get_handle(\n\u001b[0m\u001b[1;32m   1526\u001b[0m         \u001b[0mcontent_or_path\u001b[0m\u001b[0;34m,\u001b[0m \u001b[0;34m\"rb\"\u001b[0m\u001b[0;34m,\u001b[0m \u001b[0mstorage_options\u001b[0m\u001b[0;34m=\u001b[0m\u001b[0mstorage_options\u001b[0m\u001b[0;34m,\u001b[0m \u001b[0mis_text\u001b[0m\u001b[0;34m=\u001b[0m\u001b[0;32mFalse\u001b[0m\u001b[0;34m\u001b[0m\u001b[0;34m\u001b[0m\u001b[0m\n\u001b[1;32m   1527\u001b[0m     ) as handle:\n",
            "\u001b[0;32m/usr/local/lib/python3.10/dist-packages/pandas/io/common.py\u001b[0m in \u001b[0;36mget_handle\u001b[0;34m(path_or_buf, mode, encoding, compression, memory_map, is_text, errors, storage_options)\u001b[0m\n\u001b[1;32m    863\u001b[0m         \u001b[0;32melse\u001b[0m\u001b[0;34m:\u001b[0m\u001b[0;34m\u001b[0m\u001b[0;34m\u001b[0m\u001b[0m\n\u001b[1;32m    864\u001b[0m             \u001b[0;31m# Binary mode\u001b[0m\u001b[0;34m\u001b[0m\u001b[0;34m\u001b[0m\u001b[0m\n\u001b[0;32m--> 865\u001b[0;31m             \u001b[0mhandle\u001b[0m \u001b[0;34m=\u001b[0m \u001b[0mopen\u001b[0m\u001b[0;34m(\u001b[0m\u001b[0mhandle\u001b[0m\u001b[0;34m,\u001b[0m \u001b[0mioargs\u001b[0m\u001b[0;34m.\u001b[0m\u001b[0mmode\u001b[0m\u001b[0;34m)\u001b[0m\u001b[0;34m\u001b[0m\u001b[0;34m\u001b[0m\u001b[0m\n\u001b[0m\u001b[1;32m    866\u001b[0m         \u001b[0mhandles\u001b[0m\u001b[0;34m.\u001b[0m\u001b[0mappend\u001b[0m\u001b[0;34m(\u001b[0m\u001b[0mhandle\u001b[0m\u001b[0;34m)\u001b[0m\u001b[0;34m\u001b[0m\u001b[0;34m\u001b[0m\u001b[0m\n\u001b[1;32m    867\u001b[0m \u001b[0;34m\u001b[0m\u001b[0m\n",
            "\u001b[0;31mFileNotFoundError\u001b[0m: [Errno 2] No such file or directory: '/content/gdrive/MyDrive/Intro to Data Sci Final Project Spring 2023/data/Brazil_Amazon_Data.xlsx'"
          ]
        }
      ]
    },
    {
      "cell_type": "code",
      "source": [
        "#load Brazil expanded dataset\n",
        "brazil_data = pd.read_excel(\"/content/gdrive/MyDrive/Intro to Data Sci Final Project Spring 2023/data/Brazil_Amazon_Data.xlsx\")\n",
        "brazil_data.head()"
      ],
      "metadata": {
        "id": "Cf0IZb_cOycp"
      },
      "execution_count": null,
      "outputs": []
    },
    {
      "cell_type": "code",
      "source": [
        "#Rename columns to avoide spacing errors\n",
        "brazil_data = brazil_data.rename(columns={'Forest Loss (km^2)':'ForestLosskm2','CO2 Emissions (t)':'CO2EmissionsTon',\n",
        "'Soybean Production (t)':'SoybeanProductionTon','Atmospheric CO2 (ppm)':'AtmosphericCO2ppm',\n",
        "'Industrial Tropical Roundwood (m^3)':'IndustrialTropicalRoundwoodm3',\n",
        "'Iron Ore (thousand metric ton)':'IronOreProdmetton1000', 'Forest Fires':'ForestFires'})\n",
        "brazil_data.head()"
      ],
      "metadata": {
        "id": "H4yP3q_2eBWZ"
      },
      "execution_count": null,
      "outputs": []
    },
    {
      "cell_type": "code",
      "source": [
        "brazil_data = brazil_data.astype(int)\n",
        "print(brazil_data.dtypes)"
      ],
      "metadata": {
        "id": "zHBJzhWuJ5nk"
      },
      "execution_count": null,
      "outputs": []
    },
    {
      "cell_type": "markdown",
      "source": [
        "# **Hypothesis**"
      ],
      "metadata": {
        "id": "OC0ME-N5cLG9"
      }
    },
    {
      "cell_type": "markdown",
      "source": [
        "**Null hypothesis:**\n",
        "There is no relationship between human activity and deforestation in the Brazilian Amazon Rainforest.\n",
        "\n",
        "**Alternative hypothesis:**\n",
        "There is a relationship between human activity and deforestation in the Brazilian Amazon Rainforest."
      ],
      "metadata": {
        "id": "ojx6TJ0DcUhw"
      }
    },
    {
      "cell_type": "markdown",
      "source": [
        "# **Exploratory Data Analysis**"
      ],
      "metadata": {
        "id": "TXOqcGDhYkft"
      }
    },
    {
      "cell_type": "markdown",
      "source": [
        "**Another dataset that contains Tropical Wood exports, Iron Ore production, and Forest Fires in addition to previous data was explored to test the relationship of other factors to Brazil Amazon Rainforest loss. This data was only available for years 2000-2021, so it was split from the initial dataset.**"
      ],
      "metadata": {
        "id": "IeDfXhjrPICL"
      }
    },
    {
      "cell_type": "code",
      "source": [
        "brazil_data_exp = pd.read_excel('/content/gdrive/MyDrive/Intro to Data Sci Final Project Spring 2023/data/Brazil_Amazon_Data_Expanded.xlsx')\n",
        "brazil_data_exp.head()"
      ],
      "metadata": {
        "id": "hPy8Oo5oR77z"
      },
      "execution_count": null,
      "outputs": []
    },
    {
      "cell_type": "code",
      "source": [
        "brazil_data_exp = brazil_data_exp.rename(columns={'Forest Loss (km^2)':'Deforestation','CO2 Emissions (t)':'CO2e',\n",
        "'Soybean Production (t)':'Soy','Atmospheric CO2 (ppm)':'AtmCO2ppm',\n",
        "'Industrial Tropical Roundwood (m^3)':'Tropicalwood',\n",
        "'Iron Ore (thousand metric ton)':'Iron', 'Forest Fires':'ForestFires'})\n",
        "brazil_data_exp.head()"
      ],
      "metadata": {
        "id": "f9cIZfCFYB8_"
      },
      "execution_count": null,
      "outputs": []
    },
    {
      "cell_type": "code",
      "source": [
        "#descriptive statistics for expanded dataset\n",
        "brazil_data_exp.describe()"
      ],
      "metadata": {
        "id": "jeTXwxauziNJ"
      },
      "execution_count": null,
      "outputs": []
    },
    {
      "cell_type": "markdown",
      "source": [
        "## **Central Tendency**"
      ],
      "metadata": {
        "id": "_B3k6gWA2Zkt"
      }
    },
    {
      "cell_type": "code",
      "source": [
        "#calculate the mean Brazil Amazon Rainforest loss\n",
        "brazil_data_exp['Deforestation'].mean()"
      ],
      "metadata": {
        "id": "Q9Ffrq-i2F2n"
      },
      "execution_count": null,
      "outputs": []
    },
    {
      "cell_type": "code",
      "source": [
        "#calculate the median Brazil Amazon Rainforest loss\n",
        "brazil_data_exp['Deforestation'].median()"
      ],
      "metadata": {
        "id": "5C1Ok-5K3I2g"
      },
      "execution_count": null,
      "outputs": []
    },
    {
      "cell_type": "markdown",
      "source": [
        "## **Variability of Brazil Amazon Rainforest Loss**"
      ],
      "metadata": {
        "id": "4kmzE7Mv37-x"
      }
    },
    {
      "cell_type": "code",
      "source": [
        "# using max() and min() method to get the range of Brazil Amazon Rainforest loss\n",
        "brazil_data_exp['Deforestation'].max()-brazil_data_exp['Deforestation'].min()"
      ],
      "metadata": {
        "id": "v5pfpfwC4Bb7"
      },
      "execution_count": null,
      "outputs": []
    },
    {
      "cell_type": "code",
      "source": [
        "# kde plot to show distribution\n",
        "brazil_data_exp['Deforestation'].plot.kde()"
      ],
      "metadata": {
        "id": "zu9BI3li5hs9"
      },
      "execution_count": null,
      "outputs": []
    },
    {
      "cell_type": "code",
      "source": [
        "# histogram plot to show distribution\n",
        "brazil_data_exp.hist(alpha=0.5, figsize=(10, 10))\n",
        "plt.tight_layout()\n",
        "plt.show()"
      ],
      "metadata": {
        "id": "i7ngNkky5zFO"
      },
      "execution_count": null,
      "outputs": []
    },
    {
      "cell_type": "markdown",
      "source": [
        "## **Correlation**"
      ],
      "metadata": {
        "id": "VxDm5YXfrvCL"
      }
    },
    {
      "cell_type": "markdown",
      "source": [
        "**The table below displays the correlation between each of the variables.**"
      ],
      "metadata": {
        "id": "cv1a5826_yhu"
      }
    },
    {
      "cell_type": "code",
      "source": [
        "brazil_data_exp.corr(method='pearson')"
      ],
      "metadata": {
        "id": "yfMo0X8X-p6T"
      },
      "execution_count": null,
      "outputs": []
    },
    {
      "cell_type": "markdown",
      "source": [
        "## **Simple Linear Regression**"
      ],
      "metadata": {
        "id": "Zlp6UgWMMAIv"
      }
    },
    {
      "cell_type": "markdown",
      "source": [
        "This simple linear regression model (OLS) explores the relationship between deforestation and forest fires."
      ],
      "metadata": {
        "id": "pr9qm1-9paiW"
      }
    },
    {
      "cell_type": "code",
      "source": [
        "model = sm.OLS.from_formula('Deforestation ~ ForestFires', data = brazil_data_exp)\n",
        "result = model.fit()\n",
        "result.summary()"
      ],
      "metadata": {
        "id": "iPweboUPn8Ns"
      },
      "execution_count": null,
      "outputs": []
    },
    {
      "cell_type": "markdown",
      "source": [
        "## **Multiple Linear Regression**"
      ],
      "metadata": {
        "id": "nveDitSodY18"
      }
    },
    {
      "cell_type": "markdown",
      "source": [
        "The multiple linear regression model best describes how each of the independent variables relates to the dependent variable, which is the annual amount of Brazil Amazon Rainforest loss in km^2. The unit for CO2 emissions is tons, the unit for tropical wood is m^3 and the unit for iron ore production is 1000 metric tons."
      ],
      "metadata": {
        "id": "Bs6TyBubD4yy"
      }
    },
    {
      "cell_type": "code",
      "source": [
        "brazil_data_exp.head()"
      ],
      "metadata": {
        "id": "W5IH2bK9FWU3"
      },
      "execution_count": null,
      "outputs": []
    },
    {
      "cell_type": "code",
      "source": [
        "#run multiple linear regression\n",
        "model = sm.OLS.from_formula('Deforestation ~\tCO2e +\tPopulation +\tCattle +\tSoy\t+ AtmCO2ppm +\tTropicalwood +\tIron +\tForestFires', data = brazil_data_exp)\n",
        "result = model.fit()\n",
        "result.summary()"
      ],
      "metadata": {
        "id": "g4MIj1oVs2Jw"
      },
      "execution_count": null,
      "outputs": []
    },
    {
      "cell_type": "markdown",
      "source": [
        "The linear model is:\n",
        "\n",
        "Deforestation = 3.7\\*CO2e + 1.24e-05\\*Cattle - 5.93\\*Soy + 349.42\\*AtmCO2ppm + 6.62\\*ForestFires - 6.60e+04\n",
        "\n",
        "The R-Squared value for the multiple regression model is 0.716, compared with the simple linear regression model, where the R-squared value is 0.359. The simple linear regression model only explored the relationship between deforestation and forest fires, whereas the multiple regression model explored the relationships between the dependent variable - deforestation - and the independent variables in the dataset.  \n",
        "\n",
        "More variance of the dependent variable is explained with this multiple linear model, since it considers all potential factors for deforestation. From the result summary, we can tell that soybean production and forest fires both have P values that less than .05, so we can reject the null hypothesis that human activity has no effect on deforestation."
      ],
      "metadata": {
        "id": "QEPtjM7xFMb3"
      }
    },
    {
      "cell_type": "markdown",
      "source": [
        "###Machine learning with linear regression\n",
        "\n",
        "Here, the linear regression model is trained and tested with scikit-learn.\n"
      ],
      "metadata": {
        "id": "JJaejTb0Sob6"
      }
    },
    {
      "cell_type": "code",
      "source": [
        "#split data into x-array, y-array\n",
        "\n",
        "x = brazil_data_exp[['CO2e',\t'Population',\t'Cattle',\t'Soy',\t'AtmCO2ppm',\t'Tropicalwood',\t'Iron',\t'ForestFires']]\n",
        "y = brazil_data_exp['Deforestation']"
      ],
      "metadata": {
        "id": "xrQNYNdaTQj_"
      },
      "execution_count": null,
      "outputs": []
    },
    {
      "cell_type": "markdown",
      "source": [
        "Next, we split our Data Set into Training Data and Test Data.\n",
        "scikit-learn makes it very easy to divide our data set into training data and test data. To do this, we’ll need to import the function train_test_split from the model_selection module of scikit-learn."
      ],
      "metadata": {
        "id": "71nu7ABzgznN"
      }
    },
    {
      "cell_type": "code",
      "source": [
        "#import train_test_split moduce from scikit-learn\n",
        "\n",
        "from sklearn.model_selection import train_test_split"
      ],
      "metadata": {
        "id": "WS4OQBshS1oQ"
      },
      "execution_count": null,
      "outputs": []
    },
    {
      "cell_type": "code",
      "source": [
        "#split dataset into training and test data\n",
        "x_train, x_test, y_train, y_test = train_test_split(x, y, test_size=0.3)"
      ],
      "metadata": {
        "id": "wHPKll17TyGS"
      },
      "execution_count": null,
      "outputs": []
    },
    {
      "cell_type": "code",
      "source": [
        "#import LinearRegression estimator from scikit-learn and assign to MLmodel variable\n",
        "from sklearn.linear_model import LinearRegression\n",
        "MLmodel = LinearRegression()"
      ],
      "metadata": {
        "id": "uGW1YFemUJ0c"
      },
      "execution_count": null,
      "outputs": []
    },
    {
      "cell_type": "code",
      "source": [
        "MLmodel.fit(x_train, y_train)\n",
        "pd.DataFrame(MLmodel.coef_, x.columns, columns = ['Coeff'])"
      ],
      "metadata": {
        "id": "k0Ay8v00Ua7J"
      },
      "execution_count": null,
      "outputs": []
    },
    {
      "cell_type": "markdown",
      "source": [
        "From the table above, if all other variables are held constant, a 1 unit increase of forest fires would result in a 8.66 unit increase of deforestation."
      ],
      "metadata": {
        "id": "dXQD5vUEietW"
      }
    },
    {
      "cell_type": "markdown",
      "source": [
        "# Now, let's make predictions from our model. We simply call the predict method on the MLmodel we created earlier. predict() method takes an x-array parameter and generates the y values."
      ],
      "metadata": {
        "id": "UvR6JrdQi3DG"
      }
    },
    {
      "cell_type": "code",
      "source": [
        "predictions = MLmodel.predict(x_test)"
      ],
      "metadata": {
        "id": "avRiYnHbVGRt"
      },
      "execution_count": null,
      "outputs": []
    },
    {
      "cell_type": "code",
      "source": [
        "plt.scatter(y_test, predictions)"
      ],
      "metadata": {
        "id": "wJlxeQlOVLco"
      },
      "execution_count": null,
      "outputs": []
    },
    {
      "cell_type": "markdown",
      "source": [
        "As we can see, our predicted values (y-axis) are kind of close to the actual values for the observations in the data set (x-axis). A  diagonal line in this scatterplot would indicate that our model predicted the y-array values."
      ],
      "metadata": {
        "id": "YSWctV8Cjq9p"
      }
    },
    {
      "cell_type": "markdown",
      "source": [
        "**Residuals Plot**"
      ],
      "metadata": {
        "id": "JLo9weCvkQmL"
      }
    },
    {
      "cell_type": "code",
      "source": [
        "plt.hist(y_test - predictions)"
      ],
      "metadata": {
        "id": "tyQQnMd1VVjU"
      },
      "execution_count": null,
      "outputs": []
    },
    {
      "cell_type": "markdown",
      "source": [
        "We can see that the residuals from our machine learning model appear to be normally distributed. This is a very good!"
      ],
      "metadata": {
        "id": "NAZLW1nGkbjl"
      }
    },
    {
      "cell_type": "markdown",
      "source": [
        "scikit-learn does not actually have a built-in method for calculating root mean squared error. However, it provides calcuation of mean squared error. We can use NumPy's sqrt method to easily calculated root mean squared error."
      ],
      "metadata": {
        "id": "4LoSTn5ly2uI"
      }
    },
    {
      "cell_type": "code",
      "source": [
        "from sklearn import metrics"
      ],
      "metadata": {
        "id": "mvrShQdcko09"
      },
      "execution_count": null,
      "outputs": []
    },
    {
      "cell_type": "code",
      "source": [
        "metrics.mean_squared_error(y_test, predictions)\n",
        "np.sqrt(metrics.mean_squared_error(y_test, predictions))\n"
      ],
      "metadata": {
        "id": "iKVZTweJlc6T"
      },
      "execution_count": null,
      "outputs": []
    },
    {
      "cell_type": "code",
      "source": [
        "#calculate r2 metric\n",
        "r2 = metrics.r2_score(y_test, predictions)\n",
        "\n",
        "print('R2 score is {}'.format(r2))"
      ],
      "metadata": {
        "id": "-mRucHzedOly"
      },
      "execution_count": null,
      "outputs": []
    },
    {
      "cell_type": "markdown",
      "source": [
        "## **Experiments**"
      ],
      "metadata": {
        "id": "U_bHWU2GrJYG"
      }
    },
    {
      "cell_type": "code",
      "source": [
        "#Create dataset of deforestation by brazil state\n",
        "#Map of deforestation hotspots\n",
        "#enter data for latitude and longitude of brazil states, columns have to be the same length\n",
        "#Latitude = [lat1, lat2]\n",
        "#Longitude = [long1,long2]\n",
        "#brazil_states['Latitude'] = Latitude\n",
        "#brazil_states['Longitude'] = Longitude\n",
        "\n",
        "# map of CO2 emissions by city population\n",
        "\n",
        "#fig = px.scatter_geo(total_emissions_citiesUSA,lat='Latitude',lon='Longitude', color='Population', hover_name='City', size='Total_Emissions')\n",
        "#fig.update_geos(\n",
        "    #visible=False, resolution=110, scope=\"usa\",\n",
        "    #showcountries=True, countrycolor=\"Black\",\n",
        "    #showsubunits=True, subunitcolor=\"Black\")\n",
        "#fig.update_layout(title = 'Deforestation in Brazil's Amazon Rainforest by State', title_x=0.5)\n",
        "#fig.show()"
      ],
      "metadata": {
        "id": "hXzvMKZLRU1W"
      },
      "execution_count": null,
      "outputs": []
    },
    {
      "cell_type": "markdown",
      "source": [
        "## **Applied Statistical Methods**"
      ],
      "metadata": {
        "id": "IX9JnukfZICb"
      }
    },
    {
      "cell_type": "markdown",
      "source": [
        "\n",
        "\n",
        "*   **Estimation**\n",
        "* **Confidence Interval**\n",
        "*   **Linear Regression**\n",
        "\n",
        "* *multiple regression*\n",
        "* *machine learning*\n",
        "\n"
      ],
      "metadata": {
        "id": "r-UiCRkFiGSJ"
      }
    },
    {
      "cell_type": "code",
      "source": [
        "brazil_data.describe()"
      ],
      "metadata": {
        "id": "KE9m0gPIaxR-"
      },
      "execution_count": null,
      "outputs": []
    },
    {
      "cell_type": "code",
      "source": [
        "# defining the variables\n",
        "\n",
        "x = brazil_data['AtmosphericCO2ppm'].tolist()\n",
        "y = brazil_data['ForestLosskm2'].tolist()\n",
        "\n",
        "# adding the constant term\n",
        "\n",
        "x = sm.add_constant(x)\n",
        "\n",
        "# performing the regression\n",
        "# and fitting the model\n",
        "\n",
        "result = sm.OLS(y, x).fit()\n",
        "\n",
        "# printing the summary table\n",
        "\n",
        "print(result.summary())"
      ],
      "metadata": {
        "id": "Ll653dmoulAM"
      },
      "execution_count": null,
      "outputs": []
    },
    {
      "cell_type": "code",
      "source": [
        "#MLmodel.fit(x_train, y_train)\n",
        "#pd.DataFrame(MLmodel.coef_, x.columns, columns = ['Coeff'])"
      ],
      "metadata": {
        "id": "c11IHztIvotm"
      },
      "execution_count": null,
      "outputs": []
    },
    {
      "cell_type": "code",
      "source": [
        "#model3 = sm.OLS.from_formula('COUNT ~ WEATHERSIT + TEMP + ATEMP + WINDSPEED', bikeshare)\n",
        "#result3 = model3.fit()\n",
        "#result3.summary()"
      ],
      "metadata": {
        "id": "Ch6mABWylVVG"
      },
      "execution_count": null,
      "outputs": []
    },
    {
      "cell_type": "markdown",
      "source": [
        "## **Decision Tree**"
      ],
      "metadata": {
        "id": "afMPPuc2d5A4"
      }
    },
    {
      "cell_type": "code",
      "source": [
        "y_data = brazil_data['ForestLosskm2']\n",
        "x_data = brazil_data.drop(['ForestLosskm2', 'Year'], axis = 1)"
      ],
      "metadata": {
        "id": "2Z0-DCS0eBRx"
      },
      "execution_count": null,
      "outputs": []
    },
    {
      "cell_type": "code",
      "source": [
        "from sklearn.model_selection import train_test_split\n",
        "x_training_data, x_test_data, y_training_data, y_test_data = train_test_split(x_data, y_data, test_size = 0.60)"
      ],
      "metadata": {
        "id": "OMW52oM4eR5Y"
      },
      "execution_count": null,
      "outputs": []
    },
    {
      "cell_type": "code",
      "source": [
        "from sklearn import tree\n",
        "classifier = tree.DecisionTreeClassifier()\n",
        "dt_model = classifier.fit(x_training_data, y_training_data)"
      ],
      "metadata": {
        "id": "hutV0P1LLmmD"
      },
      "execution_count": null,
      "outputs": []
    },
    {
      "cell_type": "code",
      "source": [
        "classifier.score(x_test_data,y_test_data)"
      ],
      "metadata": {
        "id": "--ZpOeLmeV1w"
      },
      "execution_count": null,
      "outputs": []
    },
    {
      "cell_type": "code",
      "source": [
        "target = list(brazil_data['ForestLosskm2'].unique())\n",
        "feature_names=list(x_data.columns)"
      ],
      "metadata": {
        "id": "mC4UmkxKebhq"
      },
      "execution_count": null,
      "outputs": []
    },
    {
      "cell_type": "code",
      "source": [
        "#textual plot\n",
        "from sklearn.tree import export_text\n",
        "r = export_text(dt_model, feature_names=feature_names)\n",
        "print(r)"
      ],
      "metadata": {
        "id": "Vl1jfScoefS4"
      },
      "execution_count": null,
      "outputs": []
    },
    {
      "cell_type": "code",
      "source": [
        "## tree plot\n",
        "import graphviz\n",
        "tree_data = tree.export_graphviz(dt_model, feature_names=feature_names, filled=True,\n",
        "                                out_file=None\n",
        "                                )\n",
        "graph = graphviz.Source(tree_data)\n",
        "\n",
        "graph"
      ],
      "metadata": {
        "id": "FaTRr5YHegW-"
      },
      "execution_count": null,
      "outputs": []
    },
    {
      "cell_type": "markdown",
      "source": [
        "**Comparison of different classification models**"
      ],
      "metadata": {
        "id": "2w2jQ7GYetSx"
      }
    },
    {
      "cell_type": "code",
      "source": [
        "#import all classifers\n",
        "from sklearn.tree import DecisionTreeClassifier\n",
        "from sklearn.model_selection import train_test_split, KFold, cross_val_score, GridSearchCV\n",
        "from sklearn.ensemble import RandomForestClassifier, AdaBoostClassifier, BaggingClassifier, ExtraTreesClassifier\n",
        "from sklearn.linear_model import LogisticRegression\n",
        "from sklearn.svm import SVC\n",
        "from sklearn.neighbors import KNeighborsClassifier\n",
        "from xgboost import XGBClassifier, plot_importance"
      ],
      "metadata": {
        "id": "do2T4cS6eyh-"
      },
      "execution_count": null,
      "outputs": []
    },
    {
      "cell_type": "code",
      "source": [
        "# assign dependent variable data and independent variable data\n",
        "npX = np.array(x_data).copy()\n",
        "npy = np.array(y_data).copy()"
      ],
      "metadata": {
        "id": "_1VHsThse5AM"
      },
      "execution_count": null,
      "outputs": []
    },
    {
      "cell_type": "code",
      "source": [
        "#initiate the classifiers\n",
        "clf_rf = RandomForestClassifier()\n",
        "clf_et = ExtraTreesClassifier()\n",
        "clf_bc = BaggingClassifier()\n",
        "clf_ada = AdaBoostClassifier()\n",
        "clf_dt = DecisionTreeClassifier()\n",
        "clf_xg = XGBClassifier()\n",
        "clf_lr = LogisticRegression()\n",
        "clf_svm = SVC()"
      ],
      "metadata": {
        "id": "C9SU-jlhe8qm"
      },
      "execution_count": null,
      "outputs": []
    },
    {
      "cell_type": "code",
      "source": [
        "# 10-fold cross validation of the list of classifiers and calcuate mean accuracy.\n",
        "Classifiers = ['RandomForest','ExtraTrees','Bagging','AdaBoost','DecisionTree','XGBoost','LogisticRegression','SVM']\n",
        "scores = []\n",
        "models = [clf_rf, clf_et, clf_bc, clf_ada, clf_dt, clf_xg, clf_lr, clf_svm]\n",
        "for model in models:\n",
        "    score = cross_val_score(model, npX, npy, scoring = 'accuracy', cv = 5, n_jobs = -1).mean()\n",
        "    scores.append(score)"
      ],
      "metadata": {
        "id": "An1Zq8H4e_9Q"
      },
      "execution_count": null,
      "outputs": []
    },
    {
      "cell_type": "code",
      "source": [
        "maccuracy = pd.DataFrame(scores, index = Classifiers, columns = ['score']).sort_values(by = 'score',\n",
        "             ascending = False)\n",
        "maccuracy"
      ],
      "metadata": {
        "id": "GeFkgm7GfDyz"
      },
      "execution_count": null,
      "outputs": []
    },
    {
      "cell_type": "markdown",
      "source": [
        "**Accuracy score of decision tree model**\n",
        "      \n",
        "      The accuracy of the decision tree model is (...)\n",
        "\n",
        "**Most important variable for predicting forest loss**\n",
        "\n",
        "      (...) appears at the top of the decision tree, so it appears to be the most important for predicting forest loss in the Amazon Rainforest in Brazil.\n",
        "\n",
        "**Most accurate classification model**\n",
        "\n",
        "      The (...) model is the best one with a high score of (...)"
      ],
      "metadata": {
        "id": "X9x0FvVlDG2A"
      }
    },
    {
      "cell_type": "markdown",
      "source": [
        "## **Estimation**"
      ],
      "metadata": {
        "id": "Vjs4nCpM6AuA"
      }
    },
    {
      "cell_type": "code",
      "source": [
        "#total_emissions"
      ],
      "metadata": {
        "id": "JZOO310g6UHr"
      },
      "execution_count": null,
      "outputs": []
    },
    {
      "cell_type": "code",
      "source": [
        "#ratios = total_emissions[['Grid Emissions (tons CO2e)', 'Total Emissions (tons CO2e)']]\n",
        "#ratios['ratio'] = total_emissions['Grid Emissions (tons CO2e)']/total_emissions['Total Emissions (tons CO2e)']\n",
        "#ratios"
      ],
      "metadata": {
        "id": "zZ282LdO6CdX"
      },
      "execution_count": null,
      "outputs": []
    },
    {
      "cell_type": "code",
      "source": [
        "#ratios = ratios.drop([379,413,681])"
      ],
      "metadata": {
        "id": "g9Y_bvnD7LAS"
      },
      "execution_count": null,
      "outputs": []
    },
    {
      "cell_type": "code",
      "source": [
        "#ratios['ratio'].hist()"
      ],
      "metadata": {
        "id": "DC0JGcag7n6F"
      },
      "execution_count": null,
      "outputs": []
    },
    {
      "cell_type": "code",
      "source": [
        "#ratios_median = ratios[\"ratio\"].median()\n",
        "#ratios_median"
      ],
      "metadata": {
        "id": "jfHIowEg7rtm"
      },
      "execution_count": null,
      "outputs": []
    },
    {
      "cell_type": "markdown",
      "source": [
        "The median ratio of (grid emissions) was approximately (0.10), which means that (grid emissions generally represent 10% of total emissions.)"
      ],
      "metadata": {
        "id": "9mbIBYGdzwSw"
      }
    },
    {
      "cell_type": "code",
      "source": [
        "#our_sample = ratios.sample(500, replace=True)\n",
        "#our_sample['ratio'].hist()"
      ],
      "metadata": {
        "id": "ssuMlzte7vXB"
      },
      "execution_count": null,
      "outputs": []
    },
    {
      "cell_type": "code",
      "source": [
        "#our_sample[\"ratio\"].median()"
      ],
      "metadata": {
        "id": "umfVxZ_Q77yq"
      },
      "execution_count": null,
      "outputs": []
    },
    {
      "cell_type": "markdown",
      "source": [
        "(A random sample of 500 data points also predicted that grid emissions represent 10% of total emissions.)"
      ],
      "metadata": {
        "id": "NS0r3YZb02Od"
      }
    },
    {
      "cell_type": "code",
      "source": [
        "#resample_1 = our_sample.sample(500, replace=True)\n",
        "#resample_1['ratio'].hist()"
      ],
      "metadata": {
        "id": "kqoUjJfF8Bib"
      },
      "execution_count": null,
      "outputs": []
    },
    {
      "cell_type": "code",
      "source": [
        "#resample_1[\"ratio\"].median()"
      ],
      "metadata": {
        "id": "n6RTQqF48FXO"
      },
      "execution_count": null,
      "outputs": []
    },
    {
      "cell_type": "markdown",
      "source": [
        "The second set of random samples generated (an even lower approximate median of .07), which indicates that (a larger sample would predict grid emissions to be 7% of total emissions.)"
      ],
      "metadata": {
        "id": "LmObgNNF1a-m"
      }
    },
    {
      "cell_type": "code",
      "source": [
        "#resample_2 = our_sample.sample(500, replace=True)\n",
        "#resample_2[\"ratio\"].median()"
      ],
      "metadata": {
        "id": "oIhP6ki_8VCE"
      },
      "execution_count": null,
      "outputs": []
    },
    {
      "cell_type": "code",
      "source": [
        "#def one_bootstrap_median():\n",
        "  #resampled_table = our_sample.sample(500, replace=True)\n",
        "  #return resampled_table[\"ratio\"].median()"
      ],
      "metadata": {
        "id": "c52L_dFW8ZCb"
      },
      "execution_count": null,
      "outputs": []
    },
    {
      "cell_type": "code",
      "source": [
        "#one_bootstrap_median()"
      ],
      "metadata": {
        "id": "4xuXyBvI8bsh"
      },
      "execution_count": null,
      "outputs": []
    },
    {
      "cell_type": "code",
      "source": [
        "#num_repetitions = 5000\n",
        "#bstrap_medians = make_array()\n",
        "#for i in np.arange(num_repetitions):\n",
        "    bstrap_medians = np.append (bstrap_medians, one_bootstrap_median())"
      ],
      "metadata": {
        "id": "Hd91O2At8fXt"
      },
      "execution_count": null,
      "outputs": []
    },
    {
      "cell_type": "code",
      "source": [
        "#left = percentile(2.5, bstrap_medians)\n",
        "#left.round(4)"
      ],
      "metadata": {
        "id": "jBt6H7C48ilN"
      },
      "execution_count": null,
      "outputs": []
    },
    {
      "cell_type": "code",
      "source": [
        "#right = percentile(97.5, bstrap_medians)\n",
        "#right.round(4)"
      ],
      "metadata": {
        "id": "_ZfnnFKU8lVZ"
      },
      "execution_count": null,
      "outputs": []
    },
    {
      "cell_type": "markdown",
      "source": [
        "Initial median was (0.1024). 95% confidence interval is from (0.0664 to 0.1384). (Grid emissions are likely to be within the range of 6.64% to 13.84% of total emissions.)"
      ],
      "metadata": {
        "id": "njFIy6008sHW"
      }
    },
    {
      "cell_type": "markdown",
      "source": [
        "## **Empirical histogram of bootstrapped medians with confidence interval**"
      ],
      "metadata": {
        "id": "GD87hIyy9v0w"
      }
    },
    {
      "cell_type": "code",
      "source": [
        "#resampled_medians = Table().with_column('Bootstrap Sample Median', bstrap_medians)\n",
        "#median_bins=np.arange(0.410, 0.450, 0.002)\n",
        "#resampled_medians.hist(bins = median_bins)\n",
        "\n",
        "# Plotting parameters;\n",
        "#parameter_green = '#32CD32'\n",
        "#plt.ylim(-10, 200)\n",
        "#plt.scatter(ratios_median, 0, color=parameter_green, s=40, zorder=2)"
      ],
      "metadata": {
        "id": "PXxu6HX89Jh9"
      },
      "execution_count": null,
      "outputs": []
    },
    {
      "cell_type": "code",
      "source": [
        "#resampled_medians.hist(bins = median_bins)\n",
        "\n",
        "# Plotting parameters\n",
        "#plt.ylim(-10, 200)\n",
        "#plt.plot([left, right], [0, 0], color='yellow', lw=5, zorder=1)\n",
        "#plt.scatter(ratios_median, 0, color=parameter_green, s=40, zorder=2);"
      ],
      "metadata": {
        "id": "JhY-Ne8j-A0J"
      },
      "execution_count": null,
      "outputs": []
    },
    {
      "cell_type": "markdown",
      "source": [
        "# **Visualization**"
      ],
      "metadata": {
        "id": "txoPArBi7AeW"
      }
    },
    {
      "cell_type": "markdown",
      "source": [
        "- gini\n",
        "- heat map\n",
        "- geo map"
      ],
      "metadata": {
        "id": "QyRNRtUC7Aed"
      }
    },
    {
      "cell_type": "markdown",
      "source": [
        "# **Final Analysis and Conclusion**"
      ],
      "metadata": {
        "id": "ihPJhkusqVNg"
      }
    },
    {
      "cell_type": "markdown",
      "source": [
        "- Relationship between deforestation and each of the variables\n",
        "- Which variable/s showed the strongest correlation\n",
        "- How is this useful?\n",
        "- What questions developed from the findings?\n",
        "- Possible future expansion of study\n",
        "\n",
        "Land clearing and resource extraction are unavoidable because they lead to economic growth for a country where the vast majority has very little income to support themselves and their families. Instead, the government needs to pass legislation and enforce accountability on those responsible for illegal mining and logging. Resources must be harvested sustainably so the Amazon Rainforest can become more resilient, and regenerate natural resources."
      ],
      "metadata": {
        "id": "m4nWTgDQqZEZ"
      }
    },
    {
      "cell_type": "markdown",
      "source": [
        "# **Data Sources and References**"
      ],
      "metadata": {
        "id": "yWcEltBqEIJJ"
      }
    },
    {
      "cell_type": "code",
      "source": [
        "#Data Sources:\n",
        "#Deforestation in Brazil Legal Amazon by State 1987-2022\n",
        "#http://terrabrasilis.dpi.inpe.br/app/dashboard/deforestation/biomes/legal_amazon/rates\n",
        "\n",
        "#Bovine herds in Brazil Legal Amazon 1974-2021\n",
        "#https://sidra.ibge.gov.br/tabela/3939\n",
        "\n",
        "#Most exported products Brazil 2021\n",
        "#https://www.statista.com/statistics/1191541/products-exported-from-brazil/\n",
        "\n",
        "#Timber Trade Portal\n",
        "#https://www.timbertradeportal.com/en/brazil/11/timber-sector\n",
        "\n",
        "#Statista Brazil Amazon Dossier\n",
        "#https://www.statista.com/topics/6866/amazon-rainforest-in-brazil/#dossier-chapter2\n",
        "\n",
        "#ACS Publication - Beef & Deforestation\n",
        "#https://pubs.acs.org/doi/10.1021/es103240z#\n",
        "\n",
        "#Our World in Data Brazil CO2\n",
        "#https://ourworldindata.org/co2/country/brazil\n",
        "\n",
        "#Our World in Data Soy\n",
        "#https://ourworldindata.org/soy\n",
        "\n",
        "#OEC Soy Data Brazil\n",
        "#https://oec.world/en/profile/bilateral-product/soybeans/reporter/bra\n",
        "\n",
        "#Iron Ore Production\n",
        "#https://unctad.org/system/files/official-document/cn1ironore17.en.pdf\n",
        "#https://www.usgs.gov/centers/national-minerals-information-center/iron-ore-statistics-and-information\n",
        "\n",
        "#Fires\n",
        "#https://www.statista.com/statistics/1044328/number-wildfires-legal-amazon/\n",
        "\n",
        "#Mapping\n",
        "\n",
        "\n",
        "#List of States in Brazil with Latitude and Longitude\n",
        "#https://www.distancelatlong.com/country/brazil/\n",
        "\n",
        "\n"
      ],
      "metadata": {
        "id": "NcaLerc72w-U"
      },
      "execution_count": null,
      "outputs": []
    },
    {
      "cell_type": "markdown",
      "source": [
        "**References**\n",
        "\n",
        "In Depth Analysis from European Parliament: Brazil and the Amazon Rainforest: Deforestation, Biodiversity and Cooperation with the EU and International Forums\n",
        "https://www.europarl.europa.eu/RegData/etudes/IDAN/2020/648792/IPOL_IDA(2020)648792_EN.pdf\n",
        "\n",
        "Global Carbon Project\n",
        "https://www.globalcarbonproject.org/about/index.htm\n",
        "\n",
        "NASA EOSDIS\n",
        "https://earthobservatory.nasa.gov/blogs/earthmatters/category/climate/\n",
        "\n",
        "Brazilian Institute of Geography and Statistics (IBGE)\n",
        "https://sidra.ibge.gov.br\n",
        "\n",
        "Amazon Conservation Association\n",
        "https://www.amazonconservation.org/the-challenge/threats/\n",
        "\n",
        "Rainforest Foundation US\n",
        "https://rainforestfoundation.org/our-work/where-we-work/brazil/\n"
      ],
      "metadata": {
        "id": "RaIjY5NIfv5c"
      }
    }
  ]
}